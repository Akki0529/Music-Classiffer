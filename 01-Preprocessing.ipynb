{
 "cells": [
  {
   "cell_type": "code",
   "execution_count": 4,
   "metadata": {},
   "outputs": [],
   "source": [
    "# Imports\n",
    "import numpy as np\n",
    "import pandas as pd\n",
    "import matplotlib.pyplot as plt\n",
    "import os\n",
    "import math\n",
    "import json\n",
    "import scipy\n",
    "import librosa"
   ]
  },
  {
   "cell_type": "code",
   "execution_count": 5,
   "metadata": {},
   "outputs": [],
   "source": [
    "def plot_waveforms(audio, fs):\n",
    "    \"\"\"Plots the waveform of audio in the time domain.\n",
    "    \n",
    "    Parameters:\n",
    "        audio (numpy.ndarray): audio signal\n",
    "        fs (int): sampling frequency (Hz) of audio signal\n",
    "        \n",
    "    \"\"\"\n",
    "    plt.figure(figsize=(12, 6))\n",
    "    librosa.display.waveshow(audio, sr=fs, alpha=0.58)\n",
    "    plt.xlabel(\"Time (s)\")\n",
    "    plt.ylabel(\"Amplitude\")\n",
    "    plt.show()"
   ]
  },
  {
   "cell_type": "code",
   "execution_count": 6,
   "metadata": {},
   "outputs": [],
   "source": [
    "def calculate_spectrum(audio, kind='mag'):\n",
    "    \"\"\"\n",
    "    Calculates the spectrum of an audio signal.\n",
    "    Parameters:\n",
    "        audio (numpy.ndarray): audio signal\n",
    "        kind (str): 'mag' for magnitude, 'phase' for phase, 'complex' for complex\n",
    "    \"\"\"\n",
    "    spec = scipy.fft.fft(audio)\n",
    "    if kind == 'mag':\n",
    "        return 20*np.log10(np.abs(spec))\n",
    "    elif kind == 'phase':\n",
    "        return np.angle(spec)\n",
    "    elif kind == 'complex':\n",
    "        return 20*np.log10(spec)\n",
    "    else:\n",
    "        raise ValueError('Invalid kind')"
   ]
  },
  {
   "cell_type": "code",
   "execution_count": null,
   "metadata": {},
   "outputs": [],
   "source": [
    "#Function to plot spectrum \n"
   ]
  }
 ],
 "metadata": {
  "kernelspec": {
   "display_name": "Python 3",
   "language": "python",
   "name": "python3"
  },
  "language_info": {
   "codemirror_mode": {
    "name": "ipython",
    "version": 3
   },
   "file_extension": ".py",
   "mimetype": "text/x-python",
   "name": "python",
   "nbconvert_exporter": "python",
   "pygments_lexer": "ipython3",
   "version": "3.10.11"
  }
 },
 "nbformat": 4,
 "nbformat_minor": 2
}
