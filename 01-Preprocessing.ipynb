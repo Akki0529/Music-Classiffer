{
 "cells": [
  {
   "cell_type": "markdown",
   "metadata": {},
   "source": [
    "Title\n"
   ]
  },
  {
   "cell_type": "code",
   "execution_count": 1,
   "metadata": {},
   "outputs": [],
   "source": [
    "# Imports\n",
    "import numpy as np\n",
    "import pandas as pd\n",
    "import matplotlib.pyplot as plt\n",
    "import os\n",
    "import math\n",
    "import json\n",
    "import scipy\n",
    "import librosa"
   ]
  },
  {
   "cell_type": "code",
   "execution_count": 2,
   "metadata": {},
   "outputs": [],
   "source": [
    "def plot_waveforms(audio, fs):\n",
    "    \"\"\"Plots the waveform of audio in the time domain.\n",
    "    \n",
    "    Parameters:\n",
    "        audio (numpy.ndarray): audio signal\n",
    "        fs (int): sampling frequency (Hz) of audio signal\n",
    "        \n",
    "    \"\"\"\n",
    "    plt.figure(figsize=(12, 6))\n",
    "    librosa.display.waveshow(audio, sr=fs, alpha=0.58)\n",
    "    plt.xlabel(\"Time (s)\")\n",
    "    plt.ylabel(\"Amplitude\")\n",
    "    plt.show()"
   ]
  },
  {
   "cell_type": "code",
   "execution_count": 3,
   "metadata": {},
   "outputs": [],
   "source": [
    "def calculate_spectrum(audio, kind='mag'):\n",
    "    \"\"\"\n",
    "    Calculates the spectrum of an audio signal.\n",
    "    Parameters:\n",
    "        audio (numpy.ndarray): audio signal\n",
    "        kind (str): 'mag' for magnitude, 'phase' for phase, 'complex' for complex\n",
    "    \"\"\"\n",
    "    spec = scipy.fft.fft(audio)\n",
    "    if kind == 'mag':\n",
    "        return 20*np.log10(np.abs(spec))\n",
    "    elif kind == 'phase':\n",
    "        return np.angle(spec)\n",
    "    elif kind == 'complex':\n",
    "        return 20*np.log10(spec)\n",
    "    else:\n",
    "        raise ValueError('Invalid kind')"
   ]
  },
  {
   "cell_type": "code",
   "execution_count": 4,
   "metadata": {},
   "outputs": [],
   "source": [
    "#Function to plot spectrum \n",
    "def plot_spec(audio, fs, kind):\n",
    "    \"\"\"\n",
    "    Plots the spectrum of an audio signal.\n",
    "    parameters:\n",
    "        audio (numpy.ndarray): audio signal\n",
    "        fs (int): sampling frequency (Hz) of audio signal\n",
    "        kind (str): 'mag' for magnitude, 'phase' for phase, 'complex' for complex\n",
    "    \"\"\"\n",
    "    spec_db = calculate_spectrum(audio, kind)\n",
    "    frequency_axis = np.linspace(0, fs, len(spec_db))\n",
    "    #Nyquist frequencies\n",
    "    frequency_axis = frequency_axis[:len(frequency_axis)//2]\n",
    "    spec_db = spec_db[:len(spec_db)//2]\n",
    "\n",
    "    #plot\n",
    "    ax = plt.figure(figsize=(12, 6))\n",
    "    plt.plot(frequency_axis, spec_db)\n",
    "    plt.xlabel(\"Frequency (Hz)\")\n",
    "    plt.ylabel(\"Magnitude (dB)\")\n",
    "    plt.show()\n",
    "    if fs < 44100:\n",
    "        plt.xticks([1, 2, 4, 8, 16, 31, 63, 125, 250,500,1000,2000,5000,10000], \n",
    "                   [\"1\", \"2\", \"4\", \"8\", \"16\", \"31\", \"63\", \"125\", \"250\", \"500\", \"1K\", \"2K\", \"5K\", \"10K\"])\n",
    "    else:\n",
    "        plt.xticks([1, 2, 4, 8, 16, 31, 63, 125, 250,500,1000,2000,5000,10000, 20000], \n",
    "                   [\"1\", \"2\", \"4\", \"8\", \"16\", \"31\", \"63\", \"125\", \"250\", \"500\", \"1K\", \"2K\", \"5K\", \"10K\", \"20k\"])\n"
   ]
  },
  {
   "cell_type": "code",
   "execution_count": 5,
   "metadata": {},
   "outputs": [],
   "source": [
    "def calculate_stft(audio, fs, n_fft=2048, hop_length=512, dB=True):\n",
    "    \"\"\"\n",
    "    Calculates the Short-Time Fourier Transform (STFT) of an audio signal.\n",
    "    Parameters:\n",
    "        audio (numpy.ndarray): audio signal\n",
    "        fs (int): sampling frequency (Hz) of audio signal\n",
    "        n_fft (int): number of samples per frame\n",
    "        hop_length (int): number of samples between frames\n",
    "        dB (bool): if True, returns the magnitude in decibels\n",
    "    \"\"\"\n",
    "    stft = librosa.stft(audio, n_fft=n_fft, hop_length=hop_length)\n",
    "    if dB:\n",
    "        return librosa.amplitude_to_db(np.abs(stft)) # Convert to dB in log scale\n",
    "    else:\n",
    "        return np.abs(stft)"
   ]
  },
  {
   "cell_type": "code",
   "execution_count": 6,
   "metadata": {},
   "outputs": [],
   "source": [
    "def spectrogram(audio, fs, n_fft = 2048, hop_length = 512, dB = True):\n",
    "    \"\"\"\n",
    "    Plots the spectrogram of an audio signal.\n",
    "    parameters:\n",
    "        audio (numpy.ndarray): audio signal\n",
    "        fs (int): sampling frequency (Hz) of audio signal\n",
    "        n_fft (int): number of samples per frame\n",
    "        hop_length (int): number of samples between frames\n",
    "        dB (bool): if True, returns the magnitude in decibels\n",
    "    \"\"\"\n",
    "    stft_db = calculate_stft(audio, fs, n_fft, hop_length, dB)\n",
    "    plt.figure(figsize=(12,6))\n",
    "    librosa.display.specshow(stft_db, sr=fs, hop_length=hop_length, x_axis='time', y_axis='linear', cmap = 'inferno')\n",
    "    plt.title('Spectrogram')\n",
    "    plt.colorbar(format='%+2.0f dB')\n",
    "    plt.show()\n",
    "    plt.tight_layout()"
   ]
  },
  {
   "cell_type": "code",
   "execution_count": null,
   "metadata": {},
   "outputs": [],
   "source": [
    "def plot_mel_spectrogram(audio, fs, n_mfcss=128, n_fft = 2048, hop_length = 512):\n",
    "    mel_spec = librosa.feature.melspectrogram(audio, sr=fs, n_mels=n_mfcss, n_fft=n_fft, hop_length=hop_length)\n",
    "    mel_spec_db = librosa.power_to_db(mel_spec, ref=np.max)\n",
    "    return mel_spec_db\n",
    "\n",
    "def plot_mel_spectrogram(mfcc, fs):\n",
    "    plt.figure(figsize=(12, 6))\n",
    "    librosa.display.specshow(mfcc, sr=fs, x_axis='time', y_axis='mel', cmao='inferno')\n",
    "    plt.colorbar(format='%+2.0f dB')\n",
    "    plt.title('Mel Spectrogram')\n",
    "    plt.tight_layout()\n",
    "    plt.show()"
   ]
  }
 ],
 "metadata": {
  "kernelspec": {
   "display_name": "Python 3",
   "language": "python",
   "name": "python3"
  },
  "language_info": {
   "codemirror_mode": {
    "name": "ipython",
    "version": 3
   },
   "file_extension": ".py",
   "mimetype": "text/x-python",
   "name": "python",
   "nbconvert_exporter": "python",
   "pygments_lexer": "ipython3",
   "version": "3.10.11"
  }
 },
 "nbformat": 4,
 "nbformat_minor": 2
}
